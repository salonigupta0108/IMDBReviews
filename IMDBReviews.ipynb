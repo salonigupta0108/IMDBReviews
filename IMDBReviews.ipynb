{
 "cells": [
  {
   "cell_type": "code",
   "execution_count": 1,
   "id": "moral-essence",
   "metadata": {},
   "outputs": [
    {
     "name": "stderr",
     "output_type": "stream",
     "text": [
      "[nltk_data] Downloading package stopwords to\n",
      "[nltk_data]     C:\\Users\\Meghna\\AppData\\Roaming\\nltk_data...\n",
      "[nltk_data]   Package stopwords is already up-to-date!\n",
      "[nltk_data] Downloading package punkt to\n",
      "[nltk_data]     C:\\Users\\Meghna\\AppData\\Roaming\\nltk_data...\n",
      "[nltk_data]   Package punkt is already up-to-date!\n",
      "[nltk_data] Downloading package wordnet to\n",
      "[nltk_data]     C:\\Users\\Meghna\\AppData\\Roaming\\nltk_data...\n",
      "[nltk_data]   Package wordnet is already up-to-date!\n"
     ]
    }
   ],
   "source": [
    "import pandas as pd\n",
    "import nltk\n",
    "nltk.download(\"stopwords\")\n",
    "from nltk.stem import WordNetLemmatizer\n",
    "from nltk.corpus import stopwords\n",
    "import re\n",
    "from nltk.tokenize import word_tokenize\n",
    "nltk.download('punkt')\n",
    "nltk.download('wordnet')\n",
    "from nltk.stem import PorterStemmer\n",
    "from wordcloud import WordCloud\n",
    "import matplotlib.pyplot as plt\n",
    "from sklearn.model_selection import train_test_split\n",
    "from sklearn.linear_model import LogisticRegression\n",
    "from sklearn.metrics import accuracy_score # evaluation metric\n",
    "from sklearn.feature_extraction.text import CountVectorizer\n",
    "from sklearn.naive_bayes import MultinomialNB\n",
    "from sklearn.ensemble import RandomForestClassifier\n",
    "from sklearn.metrics import classification_report\n",
    "from sklearn.metrics import confusion_matrix\n",
    "import seaborn as sns\n",
    "from sklearn.tree import DecisionTreeClassifier\n",
    "import numpy as np\n"
   ]
  },
  {
   "cell_type": "code",
   "execution_count": 9,
   "id": "dominican-weapon",
   "metadata": {},
   "outputs": [
    {
     "data": {
      "text/plain": [
       "<bound method NDFrame.head of                                                   review sentiment\n",
       "0      One of the other reviewers has mentioned that ...  positive\n",
       "1      A wonderful little production. <br /><br />The...  positive\n",
       "2      I thought this was a wonderful way to spend ti...  positive\n",
       "3      Basically there's a family where a little boy ...  negative\n",
       "4      Petter Mattei's \"Love in the Time of Money\" is...  positive\n",
       "...                                                  ...       ...\n",
       "49995  I thought this movie did a down right good job...  positive\n",
       "49996  Bad plot, bad dialogue, bad acting, idiotic di...  negative\n",
       "49997  I am a Catholic taught in parochial elementary...  negative\n",
       "49998  I'm going to have to disagree with the previou...  negative\n",
       "49999  No one expects the Star Trek movies to be high...  negative\n",
       "\n",
       "[50000 rows x 2 columns]>"
      ]
     },
     "execution_count": 9,
     "metadata": {},
     "output_type": "execute_result"
    }
   ],
   "source": [
    "df = pd.read_csv(\"IMDB Dataset.csv\\IMDB Dataset.csv\")\n",
    "df_copy = pd.DataFrame()\n",
    "df_copy['Review'] = df['review']\n",
    "df.head"
   ]
  },
  {
   "cell_type": "code",
   "execution_count": 10,
   "id": "inclusive-mustang",
   "metadata": {},
   "outputs": [
    {
     "name": "stdout",
     "output_type": "stream",
     "text": [
      "                                                  review sentiment\n",
      "0      one reviewers mentioned watching 1 oz episode ...  positive\n",
      "1      wonderful little production br br the filming ...  positive\n",
      "2      thought wonderful way spend time hot summer we...  positive\n",
      "3      basically theres family little boy jake thinks...  negative\n",
      "4      petter matteis love time money visually stunni...  positive\n",
      "...                                                  ...       ...\n",
      "49995  thought movie right good job creative original...  positive\n",
      "49996  bad plot bad dialogue bad acting idiotic direc...  negative\n",
      "49997  catholic taught parochial elementary schools n...  negative\n",
      "49998  im going disagree previous comment side maltin...  negative\n",
      "49999  one expects star trek movies high art fans exp...  negative\n",
      "\n",
      "[50000 rows x 2 columns]\n"
     ]
    }
   ],
   "source": [
    "#PREPROCESSING OF DATA\n",
    "\n",
    "df['review'] = df['review'].apply(lambda x: \" \".join(x.lower() for x in x.split()))\n",
    "stop = stopwords.words('english')\n",
    "df['review'] = df['review'].apply(lambda x: \" \".join(x for x in x.split() if x not in stop))\n",
    "df['review'] = df['review'].apply(lambda x: \" \".join(re.sub(r'[^\\w\\s]','',x) for x in x.split()))        \n",
    "print(df)"
   ]
  },
  {
   "cell_type": "code",
   "execution_count": 11,
   "id": "technological-richards",
   "metadata": {},
   "outputs": [
    {
     "name": "stdout",
     "output_type": "stream",
     "text": [
      "                                                  review sentiment\n",
      "0      one reviewer mentioned watching 1 oz episode h...  positive\n",
      "1      wonderful little production br br the filming ...  positive\n",
      "2      thought wonderful way spend time hot summer we...  positive\n",
      "3      basically there family little boy jake think t...  negative\n",
      "4      petter matteis love time money visually stunni...  positive\n",
      "...                                                  ...       ...\n",
      "49995  thought movie right good job creative original...  positive\n",
      "49996  bad plot bad dialogue bad acting idiotic direc...  negative\n",
      "49997  catholic taught parochial elementary school nu...  negative\n",
      "49998  im going disagree previous comment side maltin...  negative\n",
      "49999  one expects star trek movie high art fan expec...  negative\n",
      "\n",
      "[50000 rows x 2 columns]\n"
     ]
    }
   ],
   "source": [
    "#LEMMATIZATION\n",
    "\n",
    "lemmatizer = WordNetLemmatizer()\n",
    "df['review'] = df['review'].apply(lambda x: \" \".join(lemmatizer.lemmatize(x) for x in x.split()))\n",
    "print(df)"
   ]
  },
  {
   "cell_type": "code",
   "execution_count": 5,
   "id": "breeding-cuisine",
   "metadata": {},
   "outputs": [],
   "source": [
    "#STEMMING\n",
    "\n",
    "#stemmer = PorterStemmer()\n",
    "#df['review'] = df['review'].apply(lambda x: \" \".join(stemmer.stem(x) for x in x.split()))\n",
    "#print(df)\n",
    "\n",
    "#We will not use stemming since it produces a lot of words which do not make sense"
   ]
  },
  {
   "cell_type": "code",
   "execution_count": 6,
   "id": "economic-pencil",
   "metadata": {},
   "outputs": [
    {
     "name": "stdout",
     "output_type": "stream",
     "text": [
      "                                                  review sentiment\n",
      "0      one reviewer mentioned watching 1 oz episode h...  positive\n",
      "1      wonderful little production br br the filming ...  positive\n",
      "2      thought wonderful way spend time hot summer we...  positive\n",
      "4      petter matteis love time money visually stunni...  positive\n",
      "5      probably alltime favorite movie story selfless...  positive\n",
      "...                                                  ...       ...\n",
      "49983  loved it fan original series always wondered b...  positive\n",
      "49985  imaginary hero clearly best film year complete...  positive\n",
      "49989  got one week ago love it modern light filled t...  positive\n",
      "49992  john garfield play marine blinded grenade figh...  positive\n",
      "49995  thought movie right good job creative original...  positive\n",
      "\n",
      "[25000 rows x 2 columns]\n",
      "25000\n"
     ]
    }
   ],
   "source": [
    "positive = df[df['sentiment']=='positive']\n",
    "negative = df[df['sentiment']=='negative']\n",
    "print(positive)\n",
    "print(len(negative))"
   ]
  },
  {
   "cell_type": "code",
   "execution_count": 7,
   "id": "studied-mills",
   "metadata": {},
   "outputs": [],
   "source": [
    "X = df['review']\n",
    "y = df['sentiment']\n",
    "\n",
    "X_train, X_test, y_train, y_test = train_test_split(X,y,test_size=0.2)\n",
    "\n"
   ]
  },
  {
   "cell_type": "code",
   "execution_count": 8,
   "id": "interesting-flexibility",
   "metadata": {},
   "outputs": [],
   "source": [
    "#Vectorize\n",
    "vect = CountVectorizer(min_df=5, ngram_range=(1, 2))\n",
    "X_train = vect.fit(X_train).transform(X_train)\n",
    "X_test = vect.transform(X_test)\n"
   ]
  },
  {
   "cell_type": "code",
   "execution_count": 9,
   "id": "featured-sunrise",
   "metadata": {},
   "outputs": [
    {
     "name": "stdout",
     "output_type": "stream",
     "text": [
      "0.8998\n"
     ]
    }
   ],
   "source": [
    "#Logistic Regression model\n",
    "\n",
    "lrmodel = LogisticRegression(C =2,max_iter=5000,random_state=0)\n",
    "lrmodel.fit(X_train, y_train)\n",
    "lrpredict=lrmodel.predict(X_test)\n",
    "lraccuracy = accuracy_score(y_test,lrpredict)\n",
    "print(lraccuracy)\n",
    "\n"
   ]
  },
  {
   "cell_type": "code",
   "execution_count": 10,
   "id": "computational-impression",
   "metadata": {},
   "outputs": [
    {
     "name": "stdout",
     "output_type": "stream",
     "text": [
      "0.8826\n"
     ]
    }
   ],
   "source": [
    "#Multinomial Naive Bayes\n",
    "\n",
    "mnbmodel = MultinomialNB()\n",
    "mnbmodel.fit(X_train,y_train)\n",
    "mnbpredict = mnbmodel.predict(X_test)\n",
    "mnbaccuracy = accuracy_score(y_test,mnbpredict)\n",
    "print(mnbaccuracy)"
   ]
  },
  {
   "cell_type": "code",
   "execution_count": 11,
   "id": "northern-correction",
   "metadata": {},
   "outputs": [
    {
     "name": "stdout",
     "output_type": "stream",
     "text": [
      "0.8265\n"
     ]
    }
   ],
   "source": [
    "rfmodel = RandomForestClassifier(max_depth = 8)\n",
    "rfmodel.fit(X_train, y_train)\n",
    "rfpredict = rfmodel.predict(X_test)\n",
    "rfaccuracy = accuracy_score(y_test, rfpredict)\n",
    "print(rfaccuracy)"
   ]
  },
  {
   "cell_type": "code",
   "execution_count": 21,
   "id": "answering-cathedral",
   "metadata": {},
   "outputs": [
    {
     "name": "stdout",
     "output_type": "stream",
     "text": [
      "0.8265\n"
     ]
    }
   ],
   "source": [
    "dtmodel = DecisionTreeClassifier(max_depth=3)\n",
    "dtmodel.fit(X_train, y_train)\n",
    "dtpredict = rfmodel.predict(X_test)\n",
    "dtaccuracy = accuracy_score(y_test, rfpredict)\n",
    "print(dtaccuracy)"
   ]
  },
  {
   "cell_type": "code",
   "execution_count": 13,
   "id": "prostate-skill",
   "metadata": {},
   "outputs": [
    {
     "name": "stdout",
     "output_type": "stream",
     "text": [
      "[[4505  552]\n",
      " [ 450 4493]]\n"
     ]
    },
    {
     "data": {
      "text/plain": [
       "<AxesSubplot:>"
      ]
     },
     "execution_count": 13,
     "metadata": {},
     "output_type": "execute_result"
    },
    {
     "data": {
      "image/png": "[encoded data removed]",
      "text/plain": [
       "<Figure size 432x288 with 2 Axes>"
      ]
     },
     "metadata": {
      "needs_background": "light"
     },
     "output_type": "display_data"
    }
   ],
   "source": [
    "matrix_lr = confusion_matrix(y_test, lrpredict)\n",
    "print(matrix_lr) \n",
    "sns.heatmap(matrix_lr, annot=True, fmt=\"d\")\n",
    "\n",
    "#plt.show()"
   ]
  },
  {
   "cell_type": "code",
   "execution_count": 14,
   "id": "informative-cruise",
   "metadata": {},
   "outputs": [
    {
     "name": "stdout",
     "output_type": "stream",
     "text": [
      "[[4444  613]\n",
      " [ 561 4382]]\n"
     ]
    },
    {
     "data": {
      "image/png": "[encoded data removed]",
      "text/plain": [
       "<Figure size 432x288 with 2 Axes>"
      ]
     },
     "metadata": {
      "needs_background": "light"
     },
     "output_type": "display_data"
    }
   ],
   "source": [
    "matrix_mnb = confusion_matrix(y_test, mnbpredict)\n",
    "sns.heatmap(matrix_mnb, annot = True, fmt=\"d\")\n",
    "print(matrix_mnb)\n"
   ]
  },
  {
   "cell_type": "code",
   "execution_count": 15,
   "id": "dutch-beatles",
   "metadata": {},
   "outputs": [
    {
     "name": "stdout",
     "output_type": "stream",
     "text": [
      "[[3855 1202]\n",
      " [ 533 4410]]\n"
     ]
    },
    {
     "data": {
      "text/plain": [
       "<AxesSubplot:>"
      ]
     },
     "execution_count": 15,
     "metadata": {},
     "output_type": "execute_result"
    },
    {
     "data": {
      "image/png": "[encoded data removed]",
      "text/plain": [
       "<Figure size 432x288 with 2 Axes>"
      ]
     },
     "metadata": {
      "needs_background": "light"
     },
     "output_type": "display_data"
    }
   ],
   "source": [
    "matrix_rf = confusion_matrix(y_test, rfpredict)\n",
    "print(matrix_rf) \n",
    "sns.heatmap(matrix_rf, annot=True, fmt=\"d\")\n"
   ]
  },
  {
   "cell_type": "code",
   "execution_count": 22,
   "id": "brief-avenue",
   "metadata": {},
   "outputs": [
    {
     "name": "stdout",
     "output_type": "stream",
     "text": [
      "[[3855 1202]\n",
      " [ 533 4410]]\n"
     ]
    },
    {
     "data": {
      "text/plain": [
       "<AxesSubplot:>"
      ]
     },
     "execution_count": 22,
     "metadata": {},
     "output_type": "execute_result"
    },
    {
     "data": {
      "image/png": "[encoded data removed]",
      "text/plain": [
       "<Figure size 432x288 with 2 Axes>"
      ]
     },
     "metadata": {
      "needs_background": "light"
     },
     "output_type": "display_data"
    }
   ],
   "source": [
    "matrix_dt = confusion_matrix(y_test, dtpredict)\n",
    "print(matrix_dt)\n",
    "sns.heatmap(matrix_dt, annot = True, fmt=\"d\")"
   ]
  },
  {
   "cell_type": "code",
   "execution_count": 23,
   "id": "neural-inflation",
   "metadata": {},
   "outputs": [
    {
     "name": "stdout",
     "output_type": "stream",
     "text": [
      "              precision    recall  f1-score   support\n",
      "\n",
      "    negative       0.91      0.89      0.90      5057\n",
      "    positive       0.89      0.91      0.90      4943\n",
      "\n",
      "    accuracy                           0.90     10000\n",
      "   macro avg       0.90      0.90      0.90     10000\n",
      "weighted avg       0.90      0.90      0.90     10000\n",
      "\n",
      "              precision    recall  f1-score   support\n",
      "\n",
      "    negative       0.89      0.88      0.88      5057\n",
      "    positive       0.88      0.89      0.88      4943\n",
      "\n",
      "    accuracy                           0.88     10000\n",
      "   macro avg       0.88      0.88      0.88     10000\n",
      "weighted avg       0.88      0.88      0.88     10000\n",
      "\n",
      "              precision    recall  f1-score   support\n",
      "\n",
      "    negative       0.88      0.76      0.82      5057\n",
      "    positive       0.79      0.89      0.84      4943\n",
      "\n",
      "    accuracy                           0.83     10000\n",
      "   macro avg       0.83      0.83      0.83     10000\n",
      "weighted avg       0.83      0.83      0.83     10000\n",
      "\n",
      "              precision    recall  f1-score   support\n",
      "\n",
      "    negative       0.88      0.76      0.82      5057\n",
      "    positive       0.79      0.89      0.84      4943\n",
      "\n",
      "    accuracy                           0.83     10000\n",
      "   macro avg       0.83      0.83      0.83     10000\n",
      "weighted avg       0.83      0.83      0.83     10000\n",
      "\n"
     ]
    }
   ],
   "source": [
    "print(classification_report(y_test, lrpredict))\n",
    "print(classification_report(y_test, mnbpredict))\n",
    "print(classification_report(y_test, rfpredict))\n",
    "print(classification_report(y_test, dtpredict))"
   ]
  },
  {
   "cell_type": "code",
   "execution_count": 3,
   "id": "threaded-inclusion",
   "metadata": {},
   "outputs": [
    {
     "name": "stderr",
     "output_type": "stream",
     "text": [
      "[nltk_data] Downloading package vader_lexicon to\n",
      "[nltk_data]     C:\\Users\\Meghna\\AppData\\Roaming\\nltk_data...\n",
      "[nltk_data]   Package vader_lexicon is already up-to-date!\n"
     ]
    },
    {
     "name": "stdout",
     "output_type": "stream",
     "text": [
      "                                              Review  Positive  Negative  \\\n",
      "0  One of the other reviewers has mentioned that ...     0.048     0.203   \n",
      "1  A wonderful little production. <br /><br />The...     0.172     0.053   \n",
      "2  I thought this was a wonderful way to spend ti...     0.192     0.094   \n",
      "3  Basically there's a family where a little boy ...     0.065     0.138   \n",
      "4  Petter Mattei's \"Love in the Time of Money\" is...     0.147     0.052   \n",
      "\n",
      "   Neutral  Compound  \n",
      "0    0.748   -0.9951  \n",
      "1    0.776    0.9641  \n",
      "2    0.714    0.9605  \n",
      "3    0.797   -0.9213  \n",
      "4    0.801    0.9744  \n"
     ]
    }
   ],
   "source": [
    "nltk.download('vader_lexicon')\n",
    "from nltk.sentiment.vader import SentimentIntensityAnalyzer\n",
    "\n",
    "vader = SentimentIntensityAnalyzer()\n",
    "df1= pd.DataFrame()\n",
    "df1['Review'] = df['review']\n",
    "df1['Positive'] = [vader.polarity_scores(str(i))['pos'] for i in df['review']]\n",
    "df1['Negative'] = [vader.polarity_scores(str(i))['neg'] for i in df['review']]\n",
    "df1['Neutral'] = [vader.polarity_scores(str(i))['neu'] for i in df['review']]\n",
    "df1['Compound'] = [vader.polarity_scores(str(i))['compound'] for i in df['review']]\n",
    "print(df1.head())"
   ]
  },
  {
   "cell_type": "code",
   "execution_count": 6,
   "id": "exotic-space",
   "metadata": {},
   "outputs": [
    {
     "name": "stdout",
     "output_type": "stream",
     "text": [
      "                                                  Review  Positive  Negative  \\\n",
      "0      One of the other reviewers has mentioned that ...     0.048     0.203   \n",
      "1      A wonderful little production. <br /><br />The...     0.172     0.053   \n",
      "2      I thought this was a wonderful way to spend ti...     0.192     0.094   \n",
      "3      Basically there's a family where a little boy ...     0.065     0.138   \n",
      "4      Petter Mattei's \"Love in the Time of Money\" is...     0.147     0.052   \n",
      "...                                                  ...       ...       ...   \n",
      "49995  I thought this movie did a down right good job...     0.199     0.047   \n",
      "49996  Bad plot, bad dialogue, bad acting, idiotic di...     0.114     0.166   \n",
      "49997  I am a Catholic taught in parochial elementary...     0.108     0.208   \n",
      "49998  I'm going to have to disagree with the previou...     0.082     0.105   \n",
      "49999  No one expects the Star Trek movies to be high...     0.141     0.135   \n",
      "\n",
      "       Neutral  Compound Overall Sentiment  \n",
      "0        0.748   -0.9951          Negative  \n",
      "1        0.776    0.9641          Positive  \n",
      "2        0.714    0.9605          Positive  \n",
      "3        0.797   -0.9213          Negative  \n",
      "4        0.801    0.9744          Positive  \n",
      "...        ...       ...               ...  \n",
      "49995    0.753    0.9890          Positive  \n",
      "49996    0.720   -0.6693          Negative  \n",
      "49997    0.683   -0.9851          Negative  \n",
      "49998    0.813   -0.7648          Negative  \n",
      "49999    0.723    0.4329          Positive  \n",
      "\n",
      "[50000 rows x 6 columns]\n"
     ]
    }
   ],
   "source": [
    "total=[]\n",
    "for i in df1['Compound']:\n",
    "    if i >= 0.00 :\n",
    "        total.append(\"Positive\")\n",
    "  \n",
    "    else :\n",
    "        total.append(\"Negative\")\n",
    "df1['Overall Sentiment'] = total\n",
    "print(df1)"
   ]
  },
  {
   "cell_type": "code",
   "execution_count": 12,
   "id": "adequate-breast",
   "metadata": {},
   "outputs": [
    {
     "name": "stdout",
     "output_type": "stream",
     "text": [
      "65.984\n",
      "34.016\n"
     ]
    }
   ],
   "source": [
    "pos_vader = len(df1[df1['Overall Sentiment']=='Positive'])*100/len(df1)\n",
    "neg_vader = len(df1[df1['Overall Sentiment']=='Negative'])*100/len(df1)\n",
    "\n",
    "print(pos_vader)\n",
    "print(neg_vader)"
   ]
  },
  {
   "cell_type": "code",
   "execution_count": null,
   "id": "younger-botswana",
   "metadata": {},
   "outputs": [],
   "source": []
  }
 ],
 "metadata": {
  "kernelspec": {
   "display_name": "Python 3",
   "language": "python",
   "name": "python3"
  },
  "language_info": {
   "codemirror_mode": {
    "name": "ipython",
    "version": 3
   },
   "file_extension": ".py",
   "mimetype": "text/x-python",
   "name": "python",
   "nbconvert_exporter": "python",
   "pygments_lexer": "ipython3",
   "version": "3.8.5"
  }
 },
 "nbformat": 4,
 "nbformat_minor": 5
}
